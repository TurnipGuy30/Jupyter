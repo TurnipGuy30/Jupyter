{
 "cells": [
  {
   "cell_type": "markdown",
   "metadata": {},
   "source": [
    "## Jupyter Notebook Assessment Task\n",
    "\n",
    "### *Learn to analyse data with Pokémon!*\n",
    "\n",
    "[Repository Link](https://github.com/TurnipGuy30/Jupyter)\n",
    "\n",
    "This program will do the following:\n",
    "\n",
    "- Take data from a CSV file\n",
    "- Clean and export the data\n",
    "- Analyse and visualise the data"
   ]
  },
  {
   "cell_type": "markdown",
   "metadata": {},
   "source": [
    "---\n",
    "\n",
    "### Setup\n",
    "\n",
    "The first thing we should do is set up the modules we plan to use in the program. These will be used to access our database and create diagrams from the data."
   ]
  },
  {
   "cell_type": "code",
   "execution_count": null,
   "metadata": {},
   "outputs": [],
   "source": [
    "# import modules\n",
    "import pandas as pd\n",
    "import matplotlib.pyplot as plt\n",
    "import seaborn as sns"
   ]
  },
  {
   "cell_type": "code",
   "execution_count": null,
   "metadata": {},
   "outputs": [],
   "source": [
    "# update matplotlib configuration for later use\n",
    "plt.rcParams.update(\n",
    "\t{\n",
    "\t\t'font.size': 20,\n",
    "\t\t'figure.figsize': (10, 8)\n",
    "\t}\n",
    ")"
   ]
  },
  {
   "cell_type": "markdown",
   "metadata": {},
   "source": [
    "---\n",
    "\n",
    "Now that the environment is set up, we can import our file, `pokemon.csv`."
   ]
  },
  {
   "cell_type": "code",
   "execution_count": null,
   "metadata": {},
   "outputs": [],
   "source": [
    "# read CSV file and save to variable as DataFrame\n",
    "pokemon = pd.read_csv('in/pokemon.csv')"
   ]
  },
  {
   "cell_type": "code",
   "execution_count": null,
   "metadata": {},
   "outputs": [],
   "source": [
    "# output DataFrame as table\n",
    "pokemon"
   ]
  },
  {
   "cell_type": "markdown",
   "metadata": {},
   "source": [
    "---\n",
    "\n",
    "We can see that the database is now outputting to the screen.\n",
    "\n",
    "Running `pokemon` shows us just the start and the end of the file, but this already tells us a few things about the formatting of the data that are specific to a Pokémon database:\n",
    "\n",
    "- Some Pokémon have alternate forms with the same `Number`.\n",
    "\n",
    "Of course, these entries have different `index` values.\n",
    "\n",
    "Looking at the original `pokemon.sql` file, the `PRIMARY KEY` property is given to the `Name` column. In SQL, the Primary Key property is given to a column which the programmer knows will never have duplicate values.\n",
    "\n",
    "Because this property was given to the `Name` column, we should set that column to our `index` column.\n",
    "\n",
    "- Some Pokémon only have one type.\n",
    "\n",
    "There are two columns for Pokémon types: `Type_1` and `Type_2`. This is because Pokémon can have either one or two types.\n",
    "\n",
    "However, this means that some Pokémon will have `NaN` `Type_2` values. This shouldn't make a difference to our program.\n",
    "\n",
    "It is worth noting that for Pokémon with two types, the first type is more heaviliy weighted when it comes to game calculations.\n",
    "\n",
    "- Each Pokémon is grouped into a `Generation` category.\n",
    "\n",
    "This database contains Pokémon up to Gen VI, meaning that each entry will have a `Generation` value of `1` through `6`.\n",
    "\n",
    "- Each Pokémon has six different statistics.\n",
    "\n",
    "Hit Points, Physical Attack, Physical Defense, Special Attack, Special Defense, and Speed are used in game calculations. In general, higher stats means a stronger Pokémon.\n",
    "\n",
    "These stats are combined in the `Total` column.\n",
    "\n",
    "Note: in the Pokémon community, the 6 stats are abbreviated to `HP`, `ATK`, `DEF`, `SPA`, `SPD`, and `SPE`.\n",
    "\n",
    "- Some Pokémon are `Legendary` Pokémon\n",
    "\n",
    "Legendary Pokémon will generally have higher stats than non-Legendary Pokémon."
   ]
  },
  {
   "cell_type": "markdown",
   "metadata": {},
   "source": [
    "---\n",
    "\n",
    "### CLeaning and organisation\n",
    "\n",
    "Now that we better understand out data, we can start performing the required cleaning.\n",
    "\n",
    "Let's rename the columns to be more conventional."
   ]
  },
  {
   "cell_type": "code",
   "execution_count": null,
   "metadata": {},
   "outputs": [],
   "source": [
    "# rename columns\n",
    "pokemon.rename(columns={\n",
    "\t'Number': 'Dex',\n",
    "\t'Attack': 'ATK',\n",
    "\t'Defense': 'DEF',\n",
    "\t'Sp_Atk': 'SPA',\n",
    "\t'Sp_Def': 'SPD',\n",
    "\t'Speed': 'SPE',\n",
    "\t'Generation': 'Gen'\n",
    "}, inplace=True)"
   ]
  },
  {
   "cell_type": "code",
   "execution_count": null,
   "metadata": {},
   "outputs": [],
   "source": [
    "# make column names lowercase\n",
    "pokemon.columns = [col.lower() for col in pokemon]"
   ]
  },
  {
   "cell_type": "code",
   "execution_count": null,
   "metadata": {},
   "outputs": [],
   "source": [
    "# set index column by name\n",
    "pokemon.set_index('name', inplace=True)"
   ]
  },
  {
   "cell_type": "markdown",
   "metadata": {},
   "source": [
    "---\n",
    "\n",
    "Let's see how it's changed."
   ]
  },
  {
   "cell_type": "code",
   "execution_count": null,
   "metadata": {},
   "outputs": [],
   "source": [
    "# output DataFrame as table\n",
    "pokemon"
   ]
  },
  {
   "cell_type": "markdown",
   "metadata": {},
   "source": [
    "Looking good! Let's move on."
   ]
  },
  {
   "cell_type": "markdown",
   "metadata": {},
   "source": [
    "---\n",
    "\n",
    "It's always a good idea to check for empty data."
   ]
  },
  {
   "cell_type": "code",
   "execution_count": null,
   "metadata": {},
   "outputs": [],
   "source": [
    "# show sum of NaN data\n",
    "pokemon.isnull().sum()"
   ]
  },
  {
   "cell_type": "markdown",
   "metadata": {},
   "source": [
    "We can see that the only column containing empty data is `type_2`. This is the expected result.\n",
    "\n",
    "Now that the data is organised, we can export the file before moving on to visualisation."
   ]
  },
  {
   "cell_type": "code",
   "execution_count": null,
   "metadata": {},
   "outputs": [],
   "source": [
    "# export DataFrame to file\n",
    "pokemon.to_csv('out/pokemon.csv')"
   ]
  },
  {
   "cell_type": "markdown",
   "metadata": {},
   "source": [
    "---\n",
    "\n",
    "### Visualisation\n",
    "\n",
    "Let's start visualising pieces of data.\n",
    "\n",
    "Visualisation can help to point out certain parts of a database. Look at the following diagram."
   ]
  },
  {
   "cell_type": "code",
   "execution_count": null,
   "metadata": {},
   "outputs": [],
   "source": [
    "# correlation between columns\n",
    "fig = plt.figure(figsize=(10, 7))\n",
    "sns.regplot(x=pokemon['atk'], y=pokemon['def']);\n",
    "plt.title('Attack v Defense');"
   ]
  },
  {
   "cell_type": "markdown",
   "metadata": {},
   "source": [
    "The diagram easily conveys that the average Pokémon's Defense is around double their Attack.\n",
    "\n",
    "I will now find the Pokémon with Attack greater than 175 and Defense greater than 100."
   ]
  },
  {
   "cell_type": "code",
   "execution_count": null,
   "metadata": {},
   "outputs": [],
   "source": [
    "# search for multiple conditions\n",
    "pokemon[\n",
    "\t(pokemon['atk'] >= 175) &\n",
    "\t(pokemon['def'] >= 100)\n",
    "]"
   ]
  },
  {
   "cell_type": "markdown",
   "metadata": {},
   "source": [
    "This can be useful information to Pokémon players who want to form the best team for Pokémon battles; High-Attack Pokémon are valuable, and the Pokémon with the best (physical) stats are listed above.\n",
    "\n",
    "A Pokémon player could then use this information on top of their prior knowledge to form a team of strong Pokémon.\n",
    "\n",
    "I will now demonstrate this by doing it myself, though I'll need some more information.\n",
    "\n",
    "Note: a Pokémon team is comprised of up to six individual Pokémon."
   ]
  },
  {
   "cell_type": "code",
   "execution_count": null,
   "metadata": {},
   "outputs": [],
   "source": [
    "# correlation data from columns\n",
    "fig = plt.figure(figsize=(10, 7))\n",
    "sns.regplot(x=pokemon['spa'], y=pokemon['spd']);\n",
    "plt.title('Special Attack v Special Defense');"
   ]
  },
  {
   "cell_type": "markdown",
   "metadata": {},
   "source": [
    "Look at the diagram below."
   ]
  },
  {
   "cell_type": "code",
   "execution_count": null,
   "metadata": {},
   "outputs": [],
   "source": [
    "# boxplot by column\n",
    "sns.boxplot(x=pokemon['legendary'], y=pokemon['total'], width=0.1);"
   ]
  },
  {
   "cell_type": "markdown",
   "metadata": {},
   "source": [
    "This diagram shows the total stats of Legendary Pokémon compared to non-Legendary Pokémon. This means that if we want a team with the highest stats, we should generally use as many Legendary Pokémon as possible."
   ]
  },
  {
   "cell_type": "code",
   "execution_count": null,
   "metadata": {},
   "outputs": [],
   "source": [
    "# search for many conditions\n",
    "pokemon[\n",
    "\t(\n",
    "\t\t(pokemon['atk'] >= 175) &\n",
    "\t\t(pokemon['def'] >= 100)\n",
    "\t) |\n",
    "\t(\n",
    "\t\t(pokemon['spa'] >= 175) &\n",
    "\t\t(pokemon['spd'] >= 100)\n",
    "\t)\n",
    "].head()"
   ]
  },
  {
   "cell_type": "markdown",
   "metadata": {},
   "source": [
    "According to this data, Mewtwo, Heracross, Kyogre, and Groudon are among the best choices. This team covers some of their own weaknesses, but seems vulnerable to Psychic-Type Pokémon. Therefore, it could benefit from having a Dark-Type Pokémon included."
   ]
  },
  {
   "cell_type": "code",
   "execution_count": null,
   "metadata": {},
   "outputs": [],
   "source": [
    "# search by condition and sort\n",
    "pokemon[\n",
    "\t(pokemon['type_1'] == 'Dark') \n",
    "].sort_values('total', ascending=False).head()"
   ]
  },
  {
   "cell_type": "markdown",
   "metadata": {},
   "source": [
    "Yveltal seems like a good fit, but is vulnerable to Electric-Type Pokémon. However, this is covered by Groudon being a Ground-Type.\n",
    "\n",
    "I'll add a Steel-Type Pokémon because they don't have many weaknesses."
   ]
  },
  {
   "cell_type": "code",
   "execution_count": null,
   "metadata": {},
   "outputs": [],
   "source": [
    "# search by condition and sort\n",
    "pokemon[\n",
    "\t(pokemon['type_1'] == 'Steel')\n",
    "].sort_values('total', ascending=False).head()"
   ]
  },
  {
   "cell_type": "markdown",
   "metadata": {},
   "source": [
    "I'll choose Metagross. Now our team looks like this."
   ]
  },
  {
   "cell_type": "code",
   "execution_count": null,
   "metadata": {},
   "outputs": [],
   "source": [
    "# locate multiple entries\n",
    "pokemon.loc[\n",
    "\t['Mewtwo', 'Heracross', 'Kyogre', 'Groudon', 'Yveltal', 'Metagross']\n",
    "]"
   ]
  },
  {
   "cell_type": "markdown",
   "metadata": {},
   "source": [
    "This is a great result; I myself would happily use this team. However, there are always improvements that could be made."
   ]
  },
  {
   "cell_type": "code",
   "execution_count": null,
   "metadata": {},
   "outputs": [],
   "source": [
    "pokemon.sort_values('total', ascending=False).head(1)"
   ]
  },
  {
   "cell_type": "markdown",
   "metadata": {},
   "source": [
    "The Pokémon with the highest stats is actually Mega Rayquaza, so why don't we have a Rayquaza?\n",
    "\n",
    "The answer is that there are many ways to formulate a Pokémon team. We have looked at the statistics, using mathematics as a basis for decisions.\n",
    "\n",
    "But when it comes to Pokémon, there are many other details to account for that are irrelevant to this project.\n",
    "\n",
    "This was just one example of practical data analysis."
   ]
  },
  {
   "cell_type": "markdown",
   "metadata": {},
   "source": [
    "---\n",
    "\n",
    "### Extra charts\n",
    "\n",
    "The following charts were made for my own entertainment."
   ]
  },
  {
   "cell_type": "markdown",
   "metadata": {},
   "source": [
    "Gen / Stat"
   ]
  },
  {
   "cell_type": "code",
   "execution_count": null,
   "metadata": {},
   "outputs": [],
   "source": [
    "sns.boxplot(x=pokemon['gen'], y=pokemon['total'], width=0.5);"
   ]
  },
  {
   "cell_type": "code",
   "execution_count": null,
   "metadata": {},
   "outputs": [],
   "source": [
    "sns.boxplot(x=pokemon['gen'], y=pokemon['hp'], width=0.5);"
   ]
  },
  {
   "cell_type": "code",
   "execution_count": null,
   "metadata": {},
   "outputs": [],
   "source": [
    "sns.boxplot(x=pokemon['gen'], y=pokemon['atk'], width=0.5);"
   ]
  },
  {
   "cell_type": "code",
   "execution_count": null,
   "metadata": {},
   "outputs": [],
   "source": [
    "sns.boxplot(x=pokemon['gen'], y=pokemon['def'], width=0.5);"
   ]
  },
  {
   "cell_type": "code",
   "execution_count": null,
   "metadata": {},
   "outputs": [],
   "source": [
    "sns.boxplot(x=pokemon['gen'], y=pokemon['spa'], width=0.5);"
   ]
  },
  {
   "cell_type": "code",
   "execution_count": null,
   "metadata": {},
   "outputs": [],
   "source": [
    "sns.boxplot(x=pokemon['gen'], y=pokemon['spd'], width=0.5);"
   ]
  },
  {
   "cell_type": "code",
   "execution_count": null,
   "metadata": {},
   "outputs": [],
   "source": [
    "sns.boxplot(x=pokemon['gen'], y=pokemon['spe'], width=0.5);"
   ]
  },
  {
   "cell_type": "markdown",
   "metadata": {},
   "source": [
    "Gen / Type"
   ]
  },
  {
   "cell_type": "code",
   "execution_count": null,
   "metadata": {},
   "outputs": [],
   "source": [
    "sns.boxplot(x=pokemon['gen'], y=pokemon['type_1']);"
   ]
  },
  {
   "cell_type": "code",
   "execution_count": null,
   "metadata": {},
   "outputs": [],
   "source": [
    "sns.boxplot(x=pokemon['gen'], y=pokemon['type_2']);"
   ]
  },
  {
   "cell_type": "markdown",
   "metadata": {},
   "source": [
    "Stat / Type 1"
   ]
  },
  {
   "cell_type": "code",
   "execution_count": null,
   "metadata": {},
   "outputs": [],
   "source": [
    "sns.boxplot(x=pokemon['total'], y=pokemon['type_1']);"
   ]
  },
  {
   "cell_type": "code",
   "execution_count": null,
   "metadata": {},
   "outputs": [],
   "source": [
    "sns.boxplot(x=pokemon['hp'], y=pokemon['type_1']);"
   ]
  },
  {
   "cell_type": "code",
   "execution_count": null,
   "metadata": {},
   "outputs": [],
   "source": [
    "sns.boxplot(x=pokemon['atk'], y=pokemon['type_1']);"
   ]
  },
  {
   "cell_type": "code",
   "execution_count": null,
   "metadata": {},
   "outputs": [],
   "source": [
    "sns.boxplot(x=pokemon['def'], y=pokemon['type_1']);"
   ]
  },
  {
   "cell_type": "code",
   "execution_count": null,
   "metadata": {},
   "outputs": [],
   "source": [
    "sns.boxplot(x=pokemon['spa'], y=pokemon['type_1']);"
   ]
  },
  {
   "cell_type": "code",
   "execution_count": null,
   "metadata": {},
   "outputs": [],
   "source": [
    "sns.boxplot(x=pokemon['spd'], y=pokemon['type_1']);"
   ]
  },
  {
   "cell_type": "code",
   "execution_count": null,
   "metadata": {},
   "outputs": [],
   "source": [
    "sns.boxplot(x=pokemon['spe'], y=pokemon['type_1']);"
   ]
  },
  {
   "cell_type": "markdown",
   "metadata": {},
   "source": [
    "Stat / Type 2"
   ]
  },
  {
   "cell_type": "code",
   "execution_count": null,
   "metadata": {},
   "outputs": [],
   "source": [
    "sns.boxplot(x=pokemon['total'], y=pokemon['type_2']);"
   ]
  },
  {
   "cell_type": "code",
   "execution_count": null,
   "metadata": {},
   "outputs": [],
   "source": [
    "sns.boxplot(x=pokemon['hp'], y=pokemon['type_2']);"
   ]
  },
  {
   "cell_type": "code",
   "execution_count": null,
   "metadata": {},
   "outputs": [],
   "source": [
    "sns.boxplot(x=pokemon['atk'], y=pokemon['type_2']);"
   ]
  },
  {
   "cell_type": "code",
   "execution_count": null,
   "metadata": {},
   "outputs": [],
   "source": [
    "sns.boxplot(x=pokemon['def'], y=pokemon['type_2']);"
   ]
  },
  {
   "cell_type": "code",
   "execution_count": null,
   "metadata": {},
   "outputs": [],
   "source": [
    "sns.boxplot(x=pokemon['spa'], y=pokemon['type_2']);"
   ]
  },
  {
   "cell_type": "code",
   "execution_count": null,
   "metadata": {},
   "outputs": [],
   "source": [
    "sns.boxplot(x=pokemon['spd'], y=pokemon['type_2']);"
   ]
  },
  {
   "cell_type": "code",
   "execution_count": null,
   "metadata": {},
   "outputs": [],
   "source": [
    "sns.boxplot(x=pokemon['spe'], y=pokemon['type_2']);"
   ]
  }
 ],
 "metadata": {
  "interpreter": {
   "hash": "55a2997d9d3e256b34d6c83cc35d39acb9a3033ba0f7dfd7aae7e5acc68cb6af"
  },
  "kernelspec": {
   "display_name": "Python 3.10.2 64-bit",
   "language": "python",
   "name": "python3"
  },
  "language_info": {
   "codemirror_mode": {
    "name": "ipython",
    "version": 3
   },
   "file_extension": ".py",
   "mimetype": "text/x-python",
   "name": "python",
   "nbconvert_exporter": "python",
   "pygments_lexer": "ipython3",
   "version": "3.10.2"
  },
  "orig_nbformat": 4
 },
 "nbformat": 4,
 "nbformat_minor": 2
}
