{
 "cells": [
  {
   "cell_type": "code",
   "execution_count": null,
   "id": "60375b87",
   "metadata": {},
   "outputs": [],
   "source": [
    "# import pandas module\n",
    "import pandas as pd"
   ]
  },
  {
   "cell_type": "code",
   "execution_count": null,
   "id": "0850671a",
   "metadata": {
    "scrolled": true
   },
   "outputs": [],
   "source": [
    "# create and display dataset\n",
    "data = {\n",
    "    'apples': [3, 2, 0, 1],\n",
    "    'oranges': [0, 3, 7, 2]\n",
    "}\n",
    "purchases = pd.DataFrame(data)\n",
    "purchases"
   ]
  },
  {
   "cell_type": "code",
   "execution_count": null,
   "id": "4c61e7b8",
   "metadata": {},
   "outputs": [],
   "source": [
    "# update index column\n",
    "purchases = pd.DataFrame(data, index=['June', 'Robert', 'Lily', 'David'])\n",
    "purchases"
   ]
  },
  {
   "cell_type": "code",
   "execution_count": null,
   "id": "44e40f35",
   "metadata": {
    "scrolled": true
   },
   "outputs": [],
   "source": [
    "# read dataset from file\n",
    "df = pd.read_csv('data/purchases.csv')\n",
    "df"
   ]
  },
  {
   "cell_type": "code",
   "execution_count": null,
   "id": "2f475a44",
   "metadata": {},
   "outputs": [],
   "source": [
    "# read from and update file\n",
    "df = pd.read_csv('data/purchases.csv', index_col=0)\n",
    "df"
   ]
  },
  {
   "cell_type": "code",
   "execution_count": null,
   "id": "70012be8",
   "metadata": {},
   "outputs": [],
   "source": [
    "# export dataset\n",
    "df.to_csv('data/purchases.csv')"
   ]
  },
  {
   "cell_type": "code",
   "execution_count": null,
   "id": "c3334c32",
   "metadata": {},
   "outputs": [],
   "source": [
    "# import dataset\n",
    "movies_df = pd.read_csv('data/IMDB-Movie-Data.csv', index_col='Title')\n",
    "movies_df"
   ]
  },
  {
   "cell_type": "code",
   "execution_count": null,
   "id": "eb6c7d07",
   "metadata": {},
   "outputs": [],
   "source": [
    "# show head\n",
    "movies_df.head()"
   ]
  },
  {
   "cell_type": "code",
   "execution_count": null,
   "id": "472c3bf7",
   "metadata": {},
   "outputs": [],
   "source": [
    "# show tail\n",
    "movies_df.tail()"
   ]
  },
  {
   "cell_type": "code",
   "execution_count": null,
   "id": "d6640d96",
   "metadata": {},
   "outputs": [],
   "source": [
    "# show dataset info\n",
    "movies_df.info()"
   ]
  },
  {
   "cell_type": "code",
   "execution_count": null,
   "id": "6d8a35ee",
   "metadata": {},
   "outputs": [],
   "source": [
    "# show dataset dimensions\n",
    "movies_df.shape"
   ]
  },
  {
   "cell_type": "code",
   "execution_count": null,
   "id": "0bc594d4",
   "metadata": {},
   "outputs": [],
   "source": [
    "# combine datasets (example)\n",
    "temp_df = movies_df.append(movies_df)\n",
    "temp_df"
   ]
  },
  {
   "cell_type": "code",
   "execution_count": null,
   "id": "3d34d240",
   "metadata": {},
   "outputs": [],
   "source": [
    "# remove duplicate entries\n",
    "temp_df.drop_duplicates(inplace=True)\n",
    "temp_df"
   ]
  },
  {
   "cell_type": "code",
   "execution_count": null,
   "id": "1a429d36",
   "metadata": {},
   "outputs": [],
   "source": [
    "# list columns\n",
    "movies_df.columns"
   ]
  },
  {
   "cell_type": "code",
   "execution_count": null,
   "id": "b8586d17",
   "metadata": {},
   "outputs": [],
   "source": [
    "# rename columns\n",
    "movies_df.rename(columns={\n",
    "\t'Runtime (Minutes)': 'Runtime',\n",
    "\t'Revenue (Millions)': 'Revenue_millions'\n",
    "}, inplace=True)\n",
    "movies_df"
   ]
  },
  {
   "cell_type": "code",
   "execution_count": null,
   "id": "17549e86",
   "metadata": {},
   "outputs": [],
   "source": [
    "# rename all columns to lowercase\n",
    "movies_df.columns = [col.lower() for col in movies_df]\n",
    "movies_df"
   ]
  },
  {
   "cell_type": "code",
   "execution_count": null,
   "id": "80d5c15c",
   "metadata": {},
   "outputs": [],
   "source": [
    "# show sum of incomplete data\n",
    "movies_df.isnull().sum()"
   ]
  }
 ],
 "metadata": {
  "kernelspec": {
   "display_name": "Python 3 (ipykernel)",
   "language": "python",
   "name": "python3"
  },
  "language_info": {
   "codemirror_mode": {
    "name": "ipython",
    "version": 3
   },
   "file_extension": ".py",
   "mimetype": "text/x-python",
   "name": "python",
   "nbconvert_exporter": "python",
   "pygments_lexer": "ipython3",
   "version": "3.10.2"
  }
 },
 "nbformat": 4,
 "nbformat_minor": 5
}
