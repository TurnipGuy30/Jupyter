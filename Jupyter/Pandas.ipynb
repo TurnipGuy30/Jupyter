{
 "cells": [
  {
   "cell_type": "code",
   "execution_count": null,
   "id": "60375b87",
   "metadata": {},
   "outputs": [],
   "source": [
    "# import modules\n",
    "import pandas as pd\n",
    "import matplotlib.pyplot as plt\n",
    "import seaborn as sns"
   ]
  },
  {
   "cell_type": "code",
   "execution_count": null,
   "id": "0850671a",
   "metadata": {
    "scrolled": true
   },
   "outputs": [],
   "source": [
    "# create and display dataset\n",
    "data = {\n",
    "    'apples': [3, 2, 0, 1],\n",
    "    'oranges': [0, 3, 7, 2]\n",
    "}\n",
    "purchases = pd.DataFrame(data)\n",
    "purchases"
   ]
  },
  {
   "cell_type": "code",
   "execution_count": null,
   "id": "4c61e7b8",
   "metadata": {},
   "outputs": [],
   "source": [
    "# update index column\n",
    "purchases = pd.DataFrame(data, index=['June', 'Robert', 'Lily', 'David'])\n",
    "purchases"
   ]
  },
  {
   "cell_type": "code",
   "execution_count": null,
   "id": "44e40f35",
   "metadata": {
    "scrolled": true
   },
   "outputs": [],
   "source": [
    "# read dataset from file\n",
    "df = pd.read_csv('data/purchases.csv')\n",
    "df"
   ]
  },
  {
   "cell_type": "code",
   "execution_count": null,
   "id": "2f475a44",
   "metadata": {},
   "outputs": [],
   "source": [
    "# read from and update file\n",
    "df = pd.read_csv('data/purchases.csv', index_col=0)\n",
    "df"
   ]
  },
  {
   "cell_type": "code",
   "execution_count": null,
   "id": "70012be8",
   "metadata": {},
   "outputs": [],
   "source": [
    "# export dataset\n",
    "df.to_csv('data/purchases.csv')"
   ]
  },
  {
   "cell_type": "code",
   "execution_count": null,
   "id": "c3334c32",
   "metadata": {},
   "outputs": [],
   "source": [
    "# import dataset\n",
    "movies_df = pd.read_csv('data/IMDB-Movie-Data.csv', index_col='Title')\n",
    "movies_df.head()"
   ]
  },
  {
   "cell_type": "code",
   "execution_count": null,
   "id": "eb6c7d07",
   "metadata": {},
   "outputs": [],
   "source": [
    "# show head\n",
    "movies_df.head()"
   ]
  },
  {
   "cell_type": "code",
   "execution_count": null,
   "id": "472c3bf7",
   "metadata": {},
   "outputs": [],
   "source": [
    "# show tail\n",
    "movies_df.tail()"
   ]
  },
  {
   "cell_type": "code",
   "execution_count": null,
   "id": "d6640d96",
   "metadata": {},
   "outputs": [],
   "source": [
    "# show dataset info\n",
    "movies_df.info()"
   ]
  },
  {
   "cell_type": "code",
   "execution_count": null,
   "id": "6d8a35ee",
   "metadata": {},
   "outputs": [],
   "source": [
    "# show dataset dimensions\n",
    "movies_df.shape"
   ]
  },
  {
   "cell_type": "code",
   "execution_count": null,
   "id": "0bc594d4",
   "metadata": {},
   "outputs": [],
   "source": [
    "# combine datasets (example)\n",
    "temp_df = movies_df.append(movies_df)\n",
    "temp_df.head()"
   ]
  },
  {
   "cell_type": "code",
   "execution_count": null,
   "id": "3d34d240",
   "metadata": {},
   "outputs": [],
   "source": [
    "# remove duplicate entries\n",
    "temp_df.drop_duplicates(inplace=True)\n",
    "temp_df.head()"
   ]
  },
  {
   "cell_type": "code",
   "execution_count": null,
   "id": "1a429d36",
   "metadata": {},
   "outputs": [],
   "source": [
    "# list columns\n",
    "movies_df.columns"
   ]
  },
  {
   "cell_type": "code",
   "execution_count": null,
   "id": "b8586d17",
   "metadata": {},
   "outputs": [],
   "source": [
    "# rename columns\n",
    "movies_df.rename(columns={\n",
    "\t'Runtime (Minutes)': 'Runtime',\n",
    "\t'Revenue (Millions)': 'Revenue_millions'\n",
    "}, inplace=True)\n",
    "movies_df.head()"
   ]
  },
  {
   "cell_type": "code",
   "execution_count": null,
   "id": "17549e86",
   "metadata": {},
   "outputs": [],
   "source": [
    "# rename all columns to lowercase\n",
    "movies_df.columns = [col.lower() for col in movies_df]\n",
    "movies_df.head()"
   ]
  },
  {
   "cell_type": "code",
   "execution_count": null,
   "id": "80d5c15c",
   "metadata": {},
   "outputs": [],
   "source": [
    "# show sum of incomplete data\n",
    "movies_df.isnull().sum()"
   ]
  },
  {
   "cell_type": "code",
   "execution_count": null,
   "id": "0a93f6fa",
   "metadata": {},
   "outputs": [],
   "source": [
    "# remove NaN data\n",
    "movies_df.dropna(axis=1).shape"
   ]
  },
  {
   "cell_type": "code",
   "execution_count": null,
   "id": "c02d086f",
   "metadata": {},
   "outputs": [],
   "source": [
    "# display single column\n",
    "revenue=movies_df['revenue_millions']\n",
    "revenue.head()"
   ]
  },
  {
   "cell_type": "code",
   "execution_count": null,
   "id": "e9ed22fe",
   "metadata": {},
   "outputs": [],
   "source": [
    "# find mean of column\n",
    "revenue_mean=revenue.mean()\n",
    "revenue_mean"
   ]
  },
  {
   "cell_type": "code",
   "execution_count": null,
   "id": "09409d99",
   "metadata": {},
   "outputs": [],
   "source": [
    "# fill NaN data with mean data\n",
    "revenue.fillna(revenue_mean, inplace=True)\n",
    "revenue.head()"
   ]
  },
  {
   "cell_type": "code",
   "execution_count": null,
   "id": "a3a6cef1",
   "metadata": {},
   "outputs": [],
   "source": [
    "# use describe\n",
    "movies_df.describe()"
   ]
  },
  {
   "cell_type": "code",
   "execution_count": null,
   "id": "850a820a",
   "metadata": {},
   "outputs": [],
   "source": [
    "# use describe on a column\n",
    "movies_df['genre'].describe()"
   ]
  },
  {
   "cell_type": "code",
   "execution_count": null,
   "id": "ed7d06d5",
   "metadata": {},
   "outputs": [],
   "source": [
    "# show frequency of values in a column\n",
    "movies_df['genre'].value_counts().head()"
   ]
  },
  {
   "cell_type": "code",
   "execution_count": null,
   "id": "bafa05cb",
   "metadata": {},
   "outputs": [],
   "source": [
    "# display corrolation of columns\n",
    "movies_df.corr()"
   ]
  },
  {
   "cell_type": "code",
   "execution_count": null,
   "id": "cd8848cf",
   "metadata": {},
   "outputs": [],
   "source": [
    "# see type Series from string selection\n",
    "type(movies_df[\n",
    "\t'genre'\n",
    "])"
   ]
  },
  {
   "cell_type": "code",
   "execution_count": null,
   "id": "944d5e24",
   "metadata": {},
   "outputs": [],
   "source": [
    "# see type DataFrame from array selection\n",
    "type(movies_df[\n",
    "\t['genre']\n",
    "])"
   ]
  },
  {
   "cell_type": "code",
   "execution_count": null,
   "id": "e468372e",
   "metadata": {},
   "outputs": [],
   "source": [
    "# see type DataFrame from array (multiple)\n",
    "type(movies_df[\n",
    "\t['genre', 'rating']\n",
    "])"
   ]
  },
  {
   "cell_type": "code",
   "execution_count": null,
   "id": "e022b27d",
   "metadata": {},
   "outputs": [],
   "source": [
    "# select columns from data\n",
    "movies_df[['genre', 'rating']].head()"
   ]
  },
  {
   "cell_type": "code",
   "execution_count": null,
   "id": "2f5b9fa5",
   "metadata": {},
   "outputs": [],
   "source": [
    "# locate row by index data\n",
    "movies_df.loc['Prometheus']"
   ]
  },
  {
   "cell_type": "code",
   "execution_count": null,
   "id": "4e37df13",
   "metadata": {},
   "outputs": [],
   "source": [
    "# locate row by index location\n",
    "movies_df.iloc[0]"
   ]
  },
  {
   "cell_type": "code",
   "execution_count": null,
   "id": "7d7d2cd2",
   "metadata": {},
   "outputs": [],
   "source": [
    "# return result of condition\n",
    "(movies_df['director'] == 'Ridley Scott').head()"
   ]
  },
  {
   "cell_type": "code",
   "execution_count": null,
   "id": "80a75c99",
   "metadata": {},
   "outputs": [],
   "source": [
    "# return data based on string condition\n",
    "movies_df[movies_df['director'] == 'Ridley Scott'].head()"
   ]
  },
  {
   "cell_type": "code",
   "execution_count": null,
   "id": "dbc2d748",
   "metadata": {},
   "outputs": [],
   "source": [
    "# return data based on numerical condition\n",
    "movies_df[movies_df['rating'] >= 8.6].head()"
   ]
  },
  {
   "cell_type": "code",
   "execution_count": null,
   "id": "0093d463",
   "metadata": {},
   "outputs": [],
   "source": [
    "# return data based on multiple conditions\n",
    "movies_df[(movies_df['director'] == 'Christopher Nolan') | (movies_df['director'] == 'Ridley Scott')].head()"
   ]
  },
  {
   "cell_type": "code",
   "execution_count": null,
   "id": "013f56e3",
   "metadata": {},
   "outputs": [],
   "source": [
    "# return data based on multiple conditions (concise)\n",
    "movies_df[movies_df['director'].isin(\n",
    "\t['Christopher Nolan', 'Ridley Scott']\n",
    ")].head()"
   ]
  },
  {
   "cell_type": "code",
   "execution_count": null,
   "id": "b128dff4",
   "metadata": {},
   "outputs": [],
   "source": [
    "# return data based on many conditions\n",
    "movies_df[\n",
    "\t(\n",
    "\t\t(movies_df['year'] >= 2005) &\n",
    "\t\t(movies_df['year'] <= 2010) &\n",
    "\t\t(movies_df['rating'] > 8.0) &\n",
    "\t\t(movies_df['revenue_millions'] < movies_df['revenue_millions'].quantile(0.25))\n",
    "\t)\n",
    "]"
   ]
  },
  {
   "cell_type": "code",
   "execution_count": null,
   "id": "0bf643a3",
   "metadata": {},
   "outputs": [],
   "source": [
    "# create function to iterate through data\n",
    "def rating_function(x):\n",
    "\tif x >= 8.0:\n",
    "\t\treturn 'good'\n",
    "\telse:\n",
    "\t\treturn 'bad'"
   ]
  },
  {
   "cell_type": "code",
   "execution_count": null,
   "id": "a63a2ea1",
   "metadata": {},
   "outputs": [],
   "source": [
    "# use function on dataset\n",
    "movies_df['rating_category'] = movies_df['rating'].apply(rating_function)\n",
    "movies_df.head()"
   ]
  },
  {
   "cell_type": "code",
   "execution_count": null,
   "id": "fcf05b47",
   "metadata": {},
   "outputs": [],
   "source": [
    "# update matplotlib parameters\n",
    "plt.rcParams.update(\n",
    "\t{\n",
    "\t\t'font.size': 20,\n",
    "\t\t'figure.figsize': (10, 8)\n",
    "\t}\n",
    ")"
   ]
  },
  {
   "cell_type": "code",
   "execution_count": null,
   "id": "11cdd640",
   "metadata": {},
   "outputs": [],
   "source": [
    "# create scatter plot from dataset\n",
    "movies_df.plot(\n",
    "\tkind = 'scatter',\n",
    "\tx = 'rating',\n",
    "\ty = 'revenue_millions',\n",
    "\ttitle = 'Revenue (millions) v Rating'\n",
    ");"
   ]
  },
  {
   "cell_type": "code",
   "execution_count": null,
   "id": "eca2ede6",
   "metadata": {},
   "outputs": [],
   "source": [
    "fig = plt.figure(figsize = (10, 7))\n",
    "sns.regplot(\n",
    "\tx = movies_df.rating,\n",
    "\ty = movies_df.revenue_millions\n",
    ");\n",
    "plt.title('Rating v Revenue');"
   ]
  }
 ],
 "metadata": {
  "kernelspec": {
   "display_name": "Python 3 (ipykernel)",
   "language": "python",
   "name": "python3"
  },
  "language_info": {
   "codemirror_mode": {
    "name": "ipython",
    "version": 3
   },
   "file_extension": ".py",
   "mimetype": "text/x-python",
   "name": "python",
   "nbconvert_exporter": "python",
   "pygments_lexer": "ipython3",
   "version": "3.10.2"
  }
 },
 "nbformat": 4,
 "nbformat_minor": 5
}
